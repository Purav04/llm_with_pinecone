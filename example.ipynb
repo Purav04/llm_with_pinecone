{
 "cells": [
  {
   "cell_type": "code",
   "execution_count": 36,
   "metadata": {},
   "outputs": [
    {
     "data": {
      "text/plain": [
       "True"
      ]
     },
     "execution_count": 36,
     "metadata": {},
     "output_type": "execute_result"
    }
   ],
   "source": [
    "import openai, langchain, pinecone, os\n",
    "from langchain.document_loaders import PyPDFDirectoryLoader\n",
    "from langchain.text_splitter import RecursiveCharacterTextSplitter\n",
    "from langchain.embeddings.openai import OpenAIEmbeddings\n",
    "from langchain.vectorstores import Pinecone\n",
    "from langchain.llms import OpenAI\n",
    "from langchain_pinecone import PineconeVectorStore\n",
    "from langchain.chains.question_answering import load_qa_chain\n",
    "from langchain import OpenAI\n",
    "\n",
    "from dotenv import load_dotenv\n",
    "load_dotenv()"
   ]
  },
  {
   "cell_type": "code",
   "execution_count": 4,
   "metadata": {},
   "outputs": [],
   "source": [
    "# read document\n",
    "def read_doc(directory):\n",
    "    file_loader = PyPDFDirectoryLoader(directory)\n",
    "    documents = file_loader.load()\n",
    "    return documents"
   ]
  },
  {
   "cell_type": "code",
   "execution_count": 6,
   "metadata": {},
   "outputs": [
    {
     "data": {
      "text/plain": [
       "267"
      ]
     },
     "execution_count": 6,
     "metadata": {},
     "output_type": "execute_result"
    }
   ],
   "source": [
    "doc = read_doc(\".\")\n",
    "len(doc)"
   ]
  },
  {
   "cell_type": "code",
   "execution_count": 7,
   "metadata": {},
   "outputs": [],
   "source": [
    "# divide the docs into chunks\n",
    "\n",
    "def chunk_data(docs, chunk_size=800, chunk_overlap=50):\n",
    "    text_splitter = RecursiveCharacterTextSplitter(chunk_size=chunk_size, chunk_overlap=chunk_overlap)\n",
    "    doc = text_splitter.split_documents(docs)\n",
    "    return doc"
   ]
  },
  {
   "cell_type": "code",
   "execution_count": 8,
   "metadata": {},
   "outputs": [
    {
     "data": {
      "text/plain": [
       "2205"
      ]
     },
     "execution_count": 8,
     "metadata": {},
     "output_type": "execute_result"
    }
   ],
   "source": [
    "document = chunk_data(docs=doc)\n",
    "len(document)"
   ]
  },
  {
   "cell_type": "code",
   "execution_count": 9,
   "metadata": {},
   "outputs": [],
   "source": [
    "# embedding with openai\n",
    "embedding = OpenAIEmbeddings(api_key=os.environ[\"OPENAI_API_KEY\"])"
   ]
  },
  {
   "cell_type": "code",
   "execution_count": 11,
   "metadata": {},
   "outputs": [
    {
     "data": {
      "text/plain": [
       "1536"
      ]
     },
     "execution_count": 11,
     "metadata": {},
     "output_type": "execute_result"
    }
   ],
   "source": [
    "vectors = embedding.embed_query(\"How are you\")\n",
    "len(vectors)"
   ]
  },
  {
   "cell_type": "code",
   "execution_count": 19,
   "metadata": {},
   "outputs": [],
   "source": [
    "# vector search DB  in Pinecone\n",
    "\n",
    "index_name = \"langchainvector\""
   ]
  },
  {
   "cell_type": "code",
   "execution_count": 32,
   "metadata": {},
   "outputs": [],
   "source": [
    "# index = Pinecone.from_documents(doc, embedding=embedding, index_name=index_name)\n",
    "# Pinecone.from_documents(doc, embedding=embedding, index=index_name)\n",
    "index = PineconeVectorStore.from_documents(doc[:100], embedding=embedding, index_name=index_name)"
   ]
  },
  {
   "cell_type": "code",
   "execution_count": 35,
   "metadata": {},
   "outputs": [],
   "source": [
    "# cosine similarity retreive results from vectorDB\n",
    "def retrieve_query(query, k=2):\n",
    "    matching_results = index.similarity_search(query, k=k)\n",
    "    return matching_results"
   ]
  },
  {
   "cell_type": "code",
   "execution_count": 38,
   "metadata": {},
   "outputs": [],
   "source": [
    "llm = OpenAI(model=\"gpt-3.5-turbo-instruct\", temperature=0.5)\n",
    "chain = load_qa_chain(llm, chain_type=\"stuff\")"
   ]
  },
  {
   "cell_type": "code",
   "execution_count": 39,
   "metadata": {},
   "outputs": [],
   "source": [
    "# search answers from VectorDB\n",
    "def retrieve_answers(query):\n",
    "    doc_search = retrieve_query(query)\n",
    "    print(doc_search)\n",
    "    response = chain.run(input_documents=doc_search, question=query)\n",
    "    return response"
   ]
  },
  {
   "cell_type": "code",
   "execution_count": 44,
   "metadata": {},
   "outputs": [
    {
     "name": "stdout",
     "output_type": "stream",
     "text": [
      "[Document(page_content='Committees\\n  Audit Committee\\n  Stakeholders’ Relationship Committee\\n  Corporate Social Responsibility and \\nGovernance Committee\\n  Human Resources, Nomination and \\nRemuneration Committee\\n  Finance Committee\\n  Environmental, Social and \\nGovernance Committee\\n  Risk Management Committee\\n  Chairman        MemberOur LeadershipBOARD OF DIRECTORS\\nThe face of India’s enterprising spirit, he led the creation \\nof the world’s largest petroleum refinery, one of the \\nmost expansive 4G and 5G networks and India’s largest \\nretail footprintFormer Central Vigilance Commissioner, and \\nFormer\\xa0Chairman CBDT\\nFormer Chairman of McKinsey & Company, India; \\nChairman of the Capability Building Commission of \\nIndia and Chairman of Quality Council of India; serves \\non the\\xa0Boards of various Reliance Group of Companies, \\nLarsen\\xa0& Toubro and CiplaLed the commissioning and start-up of the Jamnagar \\ncomplex; spearheaded various large scale projects in a \\ncareer spanning over five decades in petroleum refiningChairman of Saudi Aramco and Governor of the Public \\nInvestment Fund, a Harvard Business School alumnus, \\nwith an experience encompassing over 25 years working in \\nsome of Saudi Arabia’s prominent financial institutions. He \\nis also on the Board of leading global corporationsLeads several functions from refining to human resources; \\ninvolved in all mega initiatives of Reliance including \\nthe Hazira petrochemicals complex and Jamnagar \\nrefinery complex\\nFormer CEO of Booz & Company; currently\\xa0leads an \\nadvisory and investment firm specialising in developing \\nearly stage companiesA businesswoman, educationist and philanthropist; \\nFounder and Chairperson of Reliance Foundation, which \\nthrough focused interventions has impacted the lives of \\nnearly 70 million people across IndiaInstrumental in making Reliance a global petrochemicals \\nleader; serves on Board of Trade, Ministry of Commerce, \\nand National Council of CII\\nFormer Finance Secretary, Government of India and former \\nChairman of National Highways Authority of India (NHAI); \\nalso serves on the Boards of various Reliance and Adani \\nGroup of CompaniesFormer Managing Director of ICICI Bank and Chairman \\nof Infosys; Current Chairman of NaBFID; Awarded \\nPadma Bhushan for his contribution to the growth of the \\nbanking sectorA career spanning over four decades with Reliance across \\nfibres, petrochemicals, refining, marketing and exploration \\n& production businesses\\nA banker and former Chairperson of India’s largest bank, \\nSBI; currently leads Indian operations of Salesforce, a global \\nleader in customer relationship management softwareShri Mukesh D. Ambani\\nChairman and \\nManaging\\xa0DirectorShri K. V. Chowdary\\nIndependent Director\\nShri Adil Zainulbhai\\nIndependent DirectorShri Pawan Kumar Kapil\\nExecutive Director*His Excellency Yasir \\nOthman H. Al Rumayyan\\nIndependent DirectorShri Hital R. Meswani\\nExecutive Director\\nDr. Shumeet Banerji\\nIndependent DirectorSmt. Nita M. Ambani\\nNon-Executive DirectorShri Nikhil R. Meswani\\nExecutive Director\\nShri Raminder Singh \\nGujral\\nIndependent DirectorShri K. V. Kamath\\nIndependent DirectorShri P. M. S. Prasad\\nExecutive Director\\nSmt. Arundhati \\nBhattacharya\\nIndependent Director\\nA brief resume of the Directors, nature of their \\nexpertise in speci fic functional areas etc. are \\navailable at  \\nhttps://www.ril.com/ourcompany/leadership/\\nboardofdirectors.aspxBoard Snapshot \\nBoard Governance Structure\\n4 Executive Directors\\n8 Non-Executive Directors\\nTenure\\n0-5 years 4 Directors\\n5-10 years 4 Directors\\n10+ years 4 Directors\\n* Ceased to be a Director of the Company upon completion of his \\n5-year term as a whole-time director on May 15, 2023\\n24 25\\nCorporate Overview    Management Review    Governance    Financial Statements\\nReliance Industries Limited Integrated Annual Report 2022-23', metadata={'page': 13.0, 'source': 'RIL-Integrated-Annual-Report-2022-23.pdf'}), Document(page_content='Committees\\n  Audit Committee\\n  Stakeholders’ Relationship Committee\\n  Corporate Social Responsibility and \\nGovernance Committee\\n  Human Resources, Nomination and \\nRemuneration Committee\\n  Finance Committee\\n  Environmental, Social and \\nGovernance Committee\\n  Risk Management Committee\\n  Chairman        MemberOur LeadershipBOARD OF DIRECTORS\\nThe face of India’s enterprising spirit, he led the creation \\nof the world’s largest petroleum refinery, one of the \\nmost expansive 4G and 5G networks and India’s largest \\nretail footprintFormer Central Vigilance Commissioner, and \\nFormer\\xa0Chairman CBDT\\nFormer Chairman of McKinsey & Company, India; \\nChairman of the Capability Building Commission of \\nIndia and Chairman of Quality Council of India; serves \\non the\\xa0Boards of various Reliance Group of Companies, \\nLarsen\\xa0& Toubro and CiplaLed the commissioning and start-up of the Jamnagar \\ncomplex; spearheaded various large scale projects in a \\ncareer spanning over five decades in petroleum refiningChairman of Saudi Aramco and Governor of the Public \\nInvestment Fund, a Harvard Business School alumnus, \\nwith an experience encompassing over 25 years working in \\nsome of Saudi Arabia’s prominent financial institutions. He \\nis also on the Board of leading global corporationsLeads several functions from refining to human resources; \\ninvolved in all mega initiatives of Reliance including \\nthe Hazira petrochemicals complex and Jamnagar \\nrefinery complex\\nFormer CEO of Booz & Company; currently\\xa0leads an \\nadvisory and investment firm specialising in developing \\nearly stage companiesA businesswoman, educationist and philanthropist; \\nFounder and Chairperson of Reliance Foundation, which \\nthrough focused interventions has impacted the lives of \\nnearly 70 million people across IndiaInstrumental in making Reliance a global petrochemicals \\nleader; serves on Board of Trade, Ministry of Commerce, \\nand National Council of CII\\nFormer Finance Secretary, Government of India and former \\nChairman of National Highways Authority of India (NHAI); \\nalso serves on the Boards of various Reliance and Adani \\nGroup of CompaniesFormer Managing Director of ICICI Bank and Chairman \\nof Infosys; Current Chairman of NaBFID; Awarded \\nPadma Bhushan for his contribution to the growth of the \\nbanking sectorA career spanning over four decades with Reliance across \\nfibres, petrochemicals, refining, marketing and exploration \\n& production businesses\\nA banker and former Chairperson of India’s largest bank, \\nSBI; currently leads Indian operations of Salesforce, a global \\nleader in customer relationship management softwareShri Mukesh D. Ambani\\nChairman and \\nManaging\\xa0DirectorShri K. V. Chowdary\\nIndependent Director\\nShri Adil Zainulbhai\\nIndependent DirectorShri Pawan Kumar Kapil\\nExecutive Director*His Excellency Yasir \\nOthman H. Al Rumayyan\\nIndependent DirectorShri Hital R. Meswani\\nExecutive Director\\nDr. Shumeet Banerji\\nIndependent DirectorSmt. Nita M. Ambani\\nNon-Executive DirectorShri Nikhil R. Meswani\\nExecutive Director\\nShri Raminder Singh \\nGujral\\nIndependent DirectorShri K. V. Kamath\\nIndependent DirectorShri P. M. S. Prasad\\nExecutive Director\\nSmt. Arundhati \\nBhattacharya\\nIndependent Director\\nA brief resume of the Directors, nature of their \\nexpertise in speci fic functional areas etc. are \\navailable at  \\nhttps://www.ril.com/ourcompany/leadership/\\nboardofdirectors.aspxBoard Snapshot \\nBoard Governance Structure\\n4 Executive Directors\\n8 Non-Executive Directors\\nTenure\\n0-5 years 4 Directors\\n5-10 years 4 Directors\\n10+ years 4 Directors\\n* Ceased to be a Director of the Company upon completion of his \\n5-year term as a whole-time director on May 15, 2023\\n24 25\\nCorporate Overview    Management Review    Governance    Financial Statements\\nReliance Industries Limited Integrated Annual Report 2022-23', metadata={'page': 13.0, 'source': 'RIL-Integrated-Annual-Report-2022-23.pdf'})]\n",
      " Shri Mukesh D. Ambani is the Chairman and Managing Director of Reliance Industries Limited.\n"
     ]
    }
   ],
   "source": [
    "our_query = \"who is chairman\"\n",
    "answer = retrieve_answers(our_query)\n",
    "print(answer)"
   ]
  },
  {
   "cell_type": "code",
   "execution_count": null,
   "metadata": {},
   "outputs": [],
   "source": []
  }
 ],
 "metadata": {
  "kernelspec": {
   "display_name": "Python 3",
   "language": "python",
   "name": "python3"
  },
  "language_info": {
   "codemirror_mode": {
    "name": "ipython",
    "version": 3
   },
   "file_extension": ".py",
   "mimetype": "text/x-python",
   "name": "python",
   "nbconvert_exporter": "python",
   "pygments_lexer": "ipython3",
   "version": "3.9.0"
  }
 },
 "nbformat": 4,
 "nbformat_minor": 2
}
